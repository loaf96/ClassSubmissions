{
 "cells": [
  {
   "cell_type": "code",
   "execution_count": 352,
   "metadata": {},
   "outputs": [],
   "source": [
    "# import necessary modules\n",
    "import pandas as pd\n",
    "import numpy as np\n",
    "\n",
    "# load the necessary csv file\n",
    "csv_fp = 'purchase_data.csv'\n",
    "\n",
    "# allows the data to be read from the desired file\n",
    "purch_data = pd.read_csv(csv_fp)"
   ]
  },
  {
   "cell_type": "code",
   "execution_count": 353,
   "metadata": {},
   "outputs": [
    {
     "data": {
      "text/html": [
       "<div>\n",
       "<style scoped>\n",
       "    .dataframe tbody tr th:only-of-type {\n",
       "        vertical-align: middle;\n",
       "    }\n",
       "\n",
       "    .dataframe tbody tr th {\n",
       "        vertical-align: top;\n",
       "    }\n",
       "\n",
       "    .dataframe thead th {\n",
       "        text-align: right;\n",
       "    }\n",
       "</style>\n",
       "<table border=\"1\" class=\"dataframe\">\n",
       "  <thead>\n",
       "    <tr style=\"text-align: right;\">\n",
       "      <th></th>\n",
       "      <th>Total Players</th>\n",
       "    </tr>\n",
       "  </thead>\n",
       "  <tbody>\n",
       "    <tr>\n",
       "      <th>0</th>\n",
       "      <td>576</td>\n",
       "    </tr>\n",
       "  </tbody>\n",
       "</table>\n",
       "</div>"
      ],
      "text/plain": [
       "   Total Players\n",
       "0            576"
      ]
     },
     "execution_count": 353,
     "metadata": {},
     "output_type": "execute_result"
    }
   ],
   "source": [
    "# counts unique instances of purchases based on customer SN\n",
    "tot_peps = purch_data['SN'].unique()\n",
    "\n",
    "# displays total number of players\n",
    "tot_peps_num = len(tot_peps)\n",
    "tot_players = [{'Total Players': tot_peps_num}]\n",
    "tot_pepsdf = pd.DataFrame(tot_players)\n",
    "tot_pepsdf"
   ]
  },
  {
   "cell_type": "code",
   "execution_count": 354,
   "metadata": {},
   "outputs": [
    {
     "data": {
      "text/html": [
       "<div>\n",
       "<style scoped>\n",
       "    .dataframe tbody tr th:only-of-type {\n",
       "        vertical-align: middle;\n",
       "    }\n",
       "\n",
       "    .dataframe tbody tr th {\n",
       "        vertical-align: top;\n",
       "    }\n",
       "\n",
       "    .dataframe thead th {\n",
       "        text-align: right;\n",
       "    }\n",
       "</style>\n",
       "<table border=\"1\" class=\"dataframe\">\n",
       "  <thead>\n",
       "    <tr style=\"text-align: right;\">\n",
       "      <th></th>\n",
       "      <th>Average Price</th>\n",
       "      <th>Number of Transactions</th>\n",
       "      <th>Total Revenue</th>\n",
       "      <th>Unique Items</th>\n",
       "    </tr>\n",
       "  </thead>\n",
       "  <tbody>\n",
       "    <tr>\n",
       "      <th>0</th>\n",
       "      <td>3.05</td>\n",
       "      <td>780</td>\n",
       "      <td>2379.77</td>\n",
       "      <td>179</td>\n",
       "    </tr>\n",
       "  </tbody>\n",
       "</table>\n",
       "</div>"
      ],
      "text/plain": [
       "   Average Price  Number of Transactions  Total Revenue  Unique Items\n",
       "0           3.05                     780        2379.77           179"
      ]
     },
     "execution_count": 354,
     "metadata": {},
     "output_type": "execute_result"
    }
   ],
   "source": [
    "# finds the unqiue instances of items, average sales price, total number of transactions, and total revenue\n",
    "poss_item = purch_data['Item Name'].unique()\n",
    "\n",
    "# uses len() to find the total number of possible item choices and mean() to find the average\n",
    "# round() is used to allow for a number that is tailored for the circumstance, which in this case is to the second digit\n",
    "num_items = len(poss_item)\n",
    "avg_price = purch_data['Price'].mean()\n",
    "avg_price = round(avg_price, 2)\n",
    "tot_ampurch = len(purch_data)\n",
    "tot_rev = purch_data['Price'].sum()\n",
    "\n",
    "# creates layout of desired output as well as making it into a dataframe\n",
    "totals = [{'Unique Items': num_items, 'Average Price': avg_price, 'Number of Transactions': tot_ampurch, 'Total Revenue':\n",
    "          tot_rev}]\n",
    "totals = pd.DataFrame(totals)\n",
    "totals"
   ]
  },
  {
   "cell_type": "code",
   "execution_count": 355,
   "metadata": {},
   "outputs": [
    {
     "data": {
      "text/html": [
       "<div>\n",
       "<style scoped>\n",
       "    .dataframe tbody tr th:only-of-type {\n",
       "        vertical-align: middle;\n",
       "    }\n",
       "\n",
       "    .dataframe tbody tr th {\n",
       "        vertical-align: top;\n",
       "    }\n",
       "\n",
       "    .dataframe thead th {\n",
       "        text-align: right;\n",
       "    }\n",
       "</style>\n",
       "<table border=\"1\" class=\"dataframe\">\n",
       "  <thead>\n",
       "    <tr style=\"text-align: right;\">\n",
       "      <th></th>\n",
       "      <th>Totals</th>\n",
       "      <th>Percent</th>\n",
       "    </tr>\n",
       "    <tr>\n",
       "      <th>Gender</th>\n",
       "      <th></th>\n",
       "      <th></th>\n",
       "    </tr>\n",
       "  </thead>\n",
       "  <tbody>\n",
       "    <tr>\n",
       "      <th>Male</th>\n",
       "      <td>484</td>\n",
       "      <td>84.03</td>\n",
       "    </tr>\n",
       "    <tr>\n",
       "      <th>Female</th>\n",
       "      <td>81</td>\n",
       "      <td>14.06</td>\n",
       "    </tr>\n",
       "    <tr>\n",
       "      <th>Other / Non-Disclosed</th>\n",
       "      <td>11</td>\n",
       "      <td>1.91</td>\n",
       "    </tr>\n",
       "  </tbody>\n",
       "</table>\n",
       "</div>"
      ],
      "text/plain": [
       "                       Totals  Percent\n",
       "Gender                                \n",
       "Male                      484    84.03\n",
       "Female                     81    14.06\n",
       "Other / Non-Disclosed      11     1.91"
      ]
     },
     "execution_count": 355,
     "metadata": {},
     "output_type": "execute_result"
    }
   ],
   "source": [
    "# drops duplicates in set using the \"SN\" column as the key for determining the duplicates, only the first instance of the \n",
    "# duplicate will be kept and if their is a duplicate it will not replace the value of its original. \n",
    "g_data = purch_data.drop_duplicates(subset ='SN', keep ='first', inplace = False)\n",
    "\n",
    "# counts the number of times a value shows up in the Gender column\n",
    "g_data = g_data['Gender'].value_counts()\n",
    "g_tot = g_data['Male'] + g_data['Female'] + g_data['Other / Non-Disclosed']\n",
    "g_df = {'Gender': ['Male', 'Female', 'Other / Non-Disclosed'], 'Totals': [g_data['Male'], g_data['Female'], g_data['Other / Non-Disclosed']], 'Percent': [round((g_data['Male']/g_tot)*100, 2), round((g_data['Female']/g_tot)*100, 2), round((g_data['Other / Non-Disclosed']/g_tot)*100, 2)]}\n",
    "\n",
    "# creates g_df into a dataframe and sets the index to the genders\n",
    "g_df = pd.DataFrame(g_df)\n",
    "g_df.set_index('Gender')"
   ]
  },
  {
   "cell_type": "code",
   "execution_count": 356,
   "metadata": {},
   "outputs": [
    {
     "data": {
      "text/html": [
       "<div>\n",
       "<style scoped>\n",
       "    .dataframe tbody tr th:only-of-type {\n",
       "        vertical-align: middle;\n",
       "    }\n",
       "\n",
       "    .dataframe tbody tr th {\n",
       "        vertical-align: top;\n",
       "    }\n",
       "\n",
       "    .dataframe thead th {\n",
       "        text-align: right;\n",
       "    }\n",
       "</style>\n",
       "<table border=\"1\" class=\"dataframe\">\n",
       "  <thead>\n",
       "    <tr style=\"text-align: right;\">\n",
       "      <th></th>\n",
       "      <th>Totals</th>\n",
       "      <th>Averages</th>\n",
       "      <th>Number of Transactions</th>\n",
       "      <th>Average Spent/Buyer</th>\n",
       "    </tr>\n",
       "    <tr>\n",
       "      <th>Gender</th>\n",
       "      <th></th>\n",
       "      <th></th>\n",
       "      <th></th>\n",
       "      <th></th>\n",
       "    </tr>\n",
       "  </thead>\n",
       "  <tbody>\n",
       "    <tr>\n",
       "      <th>Male</th>\n",
       "      <td>1967.64</td>\n",
       "      <td>3.02</td>\n",
       "      <td>652</td>\n",
       "      <td>3.02</td>\n",
       "    </tr>\n",
       "    <tr>\n",
       "      <th>Female</th>\n",
       "      <td>361.94</td>\n",
       "      <td>3.20</td>\n",
       "      <td>113</td>\n",
       "      <td>3.20</td>\n",
       "    </tr>\n",
       "    <tr>\n",
       "      <th>Other / Non-Disclosed</th>\n",
       "      <td>50.19</td>\n",
       "      <td>3.35</td>\n",
       "      <td>15</td>\n",
       "      <td>3.35</td>\n",
       "    </tr>\n",
       "  </tbody>\n",
       "</table>\n",
       "</div>"
      ],
      "text/plain": [
       "                        Totals  Averages  Number of Transactions  \\\n",
       "Gender                                                             \n",
       "Male                   1967.64      3.02                     652   \n",
       "Female                  361.94      3.20                     113   \n",
       "Other / Non-Disclosed    50.19      3.35                      15   \n",
       "\n",
       "                       Average Spent/Buyer  \n",
       "Gender                                      \n",
       "Male                                  3.02  \n",
       "Female                                3.20  \n",
       "Other / Non-Disclosed                 3.35  "
      ]
     },
     "execution_count": 356,
     "metadata": {},
     "output_type": "execute_result"
    }
   ],
   "source": [
    "p_count = purch_data['Gender'].value_counts()\n",
    "purch_data2 = purch_data.set_index('Gender')\n",
    "mavg = round(purch_data2.loc['Male', 'Price'].mean(), 2)\n",
    "m_tot = purch_data2.loc['Male', 'Price'].sum()\n",
    "mp_avg = round(purch_data2.loc['Male', 'Price'].sum()/p_count['Male'], 2)\n",
    "favg = round(purch_data2.loc['Female', 'Price'].mean(), 2)\n",
    "f_tot = purch_data2.loc['Female', 'Price'].sum()\n",
    "fp_avg = round(purch_data2.loc['Female', 'Price'].sum()/p_count['Female'], 2)\n",
    "ondavg = round(purch_data2.loc['Other / Non-Disclosed', 'Price'].mean(), 2)\n",
    "ond_tot = purch_data2.loc['Other / Non-Disclosed', 'Price'].sum()\n",
    "ondp_avg = round(purch_data2.loc['Other / Non-Disclosed', 'Price'].sum()/p_count['Other / Non-Disclosed'], 2)\n",
    "ginfo_df = {'Gender': ['Male', 'Female', 'Other / Non-Disclosed'], 'Totals': [m_tot, f_tot, ond_tot], \n",
    "            'Averages': [mavg, favg, ondavg], 'Number of Transactions': [p_count['Male'], p_count['Female'], p_count['Other / Non-Disclosed']], \n",
    "           'Average Spent/Buyer': [mp_avg, fp_avg, ondp_avg]}\n",
    "ginfo_df = pd.DataFrame(ginfo_df)\n",
    "ginfo_df = ginfo_df.set_index('Gender')\n",
    "ginfo_df"
   ]
  },
  {
   "cell_type": "code",
   "execution_count": 383,
   "metadata": {},
   "outputs": [
    {
     "ename": "SyntaxError",
     "evalue": "unexpected EOF while parsing (<ipython-input-383-471d3b5b3ebe>, line 11)",
     "output_type": "error",
     "traceback": [
      "\u001b[1;36m  File \u001b[1;32m\"<ipython-input-383-471d3b5b3ebe>\"\u001b[1;36m, line \u001b[1;32m11\u001b[0m\n\u001b[1;33m    for x in age_df:\u001b[0m\n\u001b[1;37m                    ^\u001b[0m\n\u001b[1;31mSyntaxError\u001b[0m\u001b[1;31m:\u001b[0m unexpected EOF while parsing\n"
     ]
    }
   ],
   "source": [
    "age_info = purch_data\n",
    "age_df = age_info.set_index('SN')\n",
    "arone = []\n",
    "artwo = []\n",
    "artree = []\n",
    "arfr = []\n",
    "arfv = []\n",
    "arsx = []\n",
    "arsvn = []\n",
    "\n",
    "for x in age_df:\n",
    "    "
   ]
  },
  {
   "cell_type": "code",
   "execution_count": null,
   "metadata": {},
   "outputs": [],
   "source": []
  },
  {
   "cell_type": "code",
   "execution_count": null,
   "metadata": {},
   "outputs": [],
   "source": []
  },
  {
   "cell_type": "code",
   "execution_count": null,
   "metadata": {},
   "outputs": [],
   "source": []
  }
 ],
 "metadata": {
  "kernelspec": {
   "display_name": "Python 3",
   "language": "python",
   "name": "python3"
  },
  "language_info": {
   "codemirror_mode": {
    "name": "ipython",
    "version": 3
   },
   "file_extension": ".py",
   "mimetype": "text/x-python",
   "name": "python",
   "nbconvert_exporter": "python",
   "pygments_lexer": "ipython3",
   "version": "3.7.3"
  }
 },
 "nbformat": 4,
 "nbformat_minor": 2
}
